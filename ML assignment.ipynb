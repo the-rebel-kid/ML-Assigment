{
 "cells": [
  {
   "cell_type": "code",
   "execution_count": 1,
   "metadata": {},
   "outputs": [
    {
     "name": "stdout",
     "output_type": "stream",
     "text": [
      "please enter your name \n",
      "Gagandeep kaur\n",
      "please enter your age \n",
      "21\n",
      "Hey Gagandeep kaur you will turn 100 years old in 2100\n",
      "5\n",
      "Hey Gagandeep kaur you will turn 100 years old in 2100 \n",
      "Hey Gagandeep kaur you will turn 100 years old in 2100 \n",
      "Hey Gagandeep kaur you will turn 100 years old in 2100 \n",
      "Hey Gagandeep kaur you will turn 100 years old in 2100 \n",
      "Hey Gagandeep kaur you will turn 100 years old in 2100 \n",
      "\n"
     ]
    }
   ],
   "source": [
    "## QUESTION 1\n",
    "from datetime import date\n",
    "name=input('please enter your name \\n')\n",
    "age=input('please enter your age \\n')\n",
    "print('Hey {0} you will turn 100 years old in {1}'.format(name,int(100-int(age))+date.today().year))\n",
    "\n",
    "n=int(input())\n",
    "copy='Hey {0} you will turn 100 years old in {1} \\n'.format(name,int(100-int(age))+date.today().year)\n",
    "print(n*copy)"
   ]
  },
  {
   "cell_type": "code",
   "execution_count": null,
   "metadata": {},
   "outputs": [
    {
     "name": "stdout",
     "output_type": "stream",
     "text": [
      "1\n",
      "1\n",
      "2\n",
      "3\n",
      "New List is [1, 1, 2, 3]\n",
      "New List in one line is[1, 1, 2, 3]\n"
     ]
    }
   ],
   "source": [
    "## QUESTION 2\n",
    "def printele(lst):\n",
    "  # Printing Elements Less than 5\n",
    "  new_lst = []\n",
    "  for i in lst:\n",
    "    if i<5: \n",
    "      print(i)\n",
    "      ##1. Appending in List\n",
    "      new_lst.append(i)\n",
    "  print(\"New List is {}\".format(new_lst))\n",
    "\n",
    "  ##2. Appending in one line\n",
    "  new_lst2 = [x for x in lst if x<5]\n",
    "  print(\"New List in one line is{}\".format(new_lst2))\n",
    "\n",
    "  ##3. Asking user and responding accordingly\n",
    "  number = int(input(\"Enter the number to find ele smaller than the number\"))\n",
    "  new_lst3 = [x for x in lst if x<number]\n",
    "  print(\"Elements smaller than{} are {}\".format(number, new_lst3))\n",
    "\n",
    "\n",
    "\n",
    "a = [1, 1, 2, 3, 5, 8, 13, 21, 34, 55, 89]\n",
    "printele(a)"
   ]
  },
  {
   "cell_type": "code",
   "execution_count": 1,
   "metadata": {},
   "outputs": [
    {
     "name": "stdout",
     "output_type": "stream",
     "text": [
      "Enter the number of numbers for seq.6\n",
      "Fibonacci sequence:\n",
      "0\n",
      "1\n",
      "1\n",
      "2\n",
      "3\n",
      "5\n"
     ]
    }
   ],
   "source": [
    "## QUESTION 3\n",
    "def fibo(n):\n",
    "   if n <= 1:\n",
    "       return n\n",
    "   else:\n",
    "       return(fibo(n-1) + fibo(n-2))\n",
    "\n",
    "nterms = int(input(\"Enter the number of numbers for seq.\"))\n",
    "print(\"Fibonacci sequence:\")\n",
    "for i in range(nterms):\n",
    "  print(fibo(i))"
   ]
  },
  {
   "cell_type": "code",
   "execution_count": 2,
   "metadata": {},
   "outputs": [
    {
     "name": "stdout",
     "output_type": "stream",
     "text": [
      "Without using Sets\n",
      "1\n",
      "2\n",
      "3\n",
      "5\n",
      "8\n",
      "13\n",
      "21\n",
      "34\n",
      "55\n",
      "89\n"
     ]
    }
   ],
   "source": [
    "## QUESTION 4\n",
    "def lst_unique(lst):\n",
    "  unique = []\n",
    "  for l in lst:\n",
    "    if l not in unique:\n",
    "      unique.append(l)\n",
    "  for x in unique:\n",
    "    print(x)\n",
    "\n",
    "def using_set(lst):\n",
    "  list_set = set(lst)\n",
    "  unique_list = list(list_set)\n",
    "  for x in unique_list:\n",
    "    print(x)\n",
    "\n",
    "a = [1, 1, 2, 3, 5, 8, 13, 21, 34, 55, 89, 21, 89]\n",
    "print(\"Without using Sets\")\n",
    "lst_unique(a)"
   ]
  },
  {
   "cell_type": "code",
   "execution_count": 3,
   "metadata": {},
   "outputs": [
    {
     "name": "stdout",
     "output_type": "stream",
     "text": [
      "Enter Number you want to check \t7\n",
      "Number is Prime\n"
     ]
    }
   ],
   "source": [
    "## QUESTION 5\n",
    "def prime_check():\n",
    "  num = int(input(\"Enter Number you want to check \\t\"))\n",
    "  flag = 1\n",
    "  for i in range(2, int(num/2)):\n",
    "    if(num%i == 0):\n",
    "      flag = 0\n",
    "      break\n",
    "  if(flag==0):\n",
    "    print(\"Number is not Prime\")\n",
    "  else:\n",
    "    print(\"Number is Prime\")\n",
    "\n",
    "prime_check()"
   ]
  },
  {
   "cell_type": "code",
   "execution_count": null,
   "metadata": {},
   "outputs": [],
   "source": []
  }
 ],
 "metadata": {
  "kernelspec": {
   "display_name": "Python 3",
   "language": "python",
   "name": "python3"
  },
  "language_info": {
   "codemirror_mode": {
    "name": "ipython",
    "version": 3
   },
   "file_extension": ".py",
   "mimetype": "text/x-python",
   "name": "python",
   "nbconvert_exporter": "python",
   "pygments_lexer": "ipython3",
   "version": "3.7.6"
  }
 },
 "nbformat": 4,
 "nbformat_minor": 4
}
